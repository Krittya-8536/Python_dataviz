{
 "cells": [
  {
   "cell_type": "markdown",
   "metadata": {},
   "source": [
    "# Function\n",
    "### print ชื่อ xxx นามสกุล yyy หรัส zzz\n",
    "### print เกรด วิชา Stat 1 >>> AAA"
   ]
  },
  {
   "cell_type": "code",
   "execution_count": 2,
   "metadata": {},
   "outputs": [
    {
     "name": "stdout",
     "output_type": "stream",
     "text": [
      "ชื่อ กฤตยา นามสกุล สังข์ไทย รหัส 603021853-6\n"
     ]
    }
   ],
   "source": [
    "a = 'ชื่อ กฤตยา นามสกุล สังข์ไทย รหัส 603021853-6'\n",
    "print (a)"
   ]
  },
  {
   "cell_type": "code",
   "execution_count": 3,
   "metadata": {},
   "outputs": [
    {
     "name": "stdout",
     "output_type": "stream",
     "text": [
      "ชื่อ กฤตยา นามสกุล สังข์ไทย รหัส 603021853-6\n"
     ]
    }
   ],
   "source": [
    "name='กฤตยา'\n",
    "surname = 'สังข์ไทย'\n",
    "ID ='603021853-6'\n",
    "b = f'ชื่อ {name} นามสกุล {surname} รหัส {ID}'\n",
    "print (b)"
   ]
  },
  {
   "cell_type": "markdown",
   "metadata": {},
   "source": [
    "## วิธีการเขียน Function"
   ]
  },
  {
   "cell_type": "markdown",
   "metadata": {},
   "source": [
    "## Function template\n",
    "```python\n",
    "def function_name(input):\n",
    "    do_someting\n",
    "    return output\n",
    "```"
   ]
  },
  {
   "cell_type": "code",
   "execution_count": 4,
   "metadata": {},
   "outputs": [],
   "source": [
    "def print_line1(name1,surname1,ID1):\n",
    "    st= f'ชื่อ {name1} นามสกุล {surname1} รหัส {ID1}'\n",
    "    return st"
   ]
  },
  {
   "cell_type": "code",
   "execution_count": 5,
   "metadata": {},
   "outputs": [
    {
     "name": "stdout",
     "output_type": "stream",
     "text": [
      "ชื่อ กฤตยา นามสกุล สังข์ไทย รหัส 603021853-6\n"
     ]
    }
   ],
   "source": [
    "print(print_line1('กฤตยา','สังข์ไทย','603021853-6'))"
   ]
  },
  {
   "cell_type": "markdown",
   "metadata": {},
   "source": [
    "## Function without output"
   ]
  },
  {
   "cell_type": "code",
   "execution_count": 11,
   "metadata": {},
   "outputs": [],
   "source": [
    "def print_2line(name1,surname1,ID1,grade):\n",
    "    st= f'ชื่อ {name1} นามสกุล {surname1} รหัส {ID1}'\n",
    "    print (st)\n",
    "    st2=f'เกรดวิชา stat1 >>> {grade}'\n",
    "    print (st2)"
   ]
  },
  {
   "cell_type": "code",
   "execution_count": 12,
   "metadata": {},
   "outputs": [
    {
     "name": "stdout",
     "output_type": "stream",
     "text": [
      "ชื่อ กฤตยา นามสกุล สังข์ไทย รหัส 603021853-6\n",
      "เกรดวิชา stat1 >>> B\n"
     ]
    }
   ],
   "source": [
    "print_2line('กฤตยา','สังข์ไทย','603021853-6','B')"
   ]
  },
  {
   "cell_type": "code",
   "execution_count": 14,
   "metadata": {},
   "outputs": [],
   "source": [
    "def print_3line(name1,surname1,ID1,grade):\n",
    "    st= f'ชื่อ {name1} นามสกุล {surname1} รหัส {ID1}'\n",
    "    print (st)\n",
    "    st2=f'เกรดวิชา stat1 >>> {grade}'\n",
    "    print (st2)"
   ]
  },
  {
   "cell_type": "code",
   "execution_count": 15,
   "metadata": {},
   "outputs": [
    {
     "name": "stdout",
     "output_type": "stream",
     "text": [
      "ชื่อ กฤตยา นามสกุล สังข์ไทย รหัส 603021853-6\n",
      "เกรดวิชา stat1 >>> A\n",
      "ชื่อ ลั่นฟ้า นามสกุล บุญรอด รหัส 603021885-3\n",
      "เกรดวิชา stat1 >>> A\n",
      "ชื่อ ณัฐฤทธิ์ นามสกุล เศวตวรานนท์ รหัส 603021863-3\n",
      "เกรดวิชา stat1 >>> A\n"
     ]
    }
   ],
   "source": [
    "print_3line('กฤตยา','สังข์ไทย','603021853-6','A')\n",
    "print_3line('ลั่นฟ้า','บุญรอด','603021885-3','A')\n",
    "print_3line('ณัฐฤทธิ์','เศวตวรานนท์','603021863-3','A')"
   ]
  },
  {
   "cell_type": "markdown",
   "metadata": {},
   "source": [
    "## Function without input"
   ]
  },
  {
   "cell_type": "code",
   "execution_count": 16,
   "metadata": {},
   "outputs": [],
   "source": [
    "def two_x_three():\n",
    "    x=2*3\n",
    "    return x"
   ]
  },
  {
   "cell_type": "code",
   "execution_count": 20,
   "metadata": {},
   "outputs": [
    {
     "data": {
      "text/plain": [
       "6"
      ]
     },
     "execution_count": 20,
     "metadata": {},
     "output_type": "execute_result"
    }
   ],
   "source": [
    "two_x_three()"
   ]
  },
  {
   "cell_type": "markdown",
   "metadata": {},
   "source": [
    "## Function whit default argument"
   ]
  },
  {
   "cell_type": "code",
   "execution_count": 29,
   "metadata": {},
   "outputs": [],
   "source": [
    "def print_3line_default(name1,surname1,ID1,grade='F'):\n",
    "    st= f'ชื่อ {name1} นามสกุล {surname1} รหัส {ID1}'\n",
    "    print (st)\n",
    "    st2=f'เกรดวิชา stat1 >>> {grade}'\n",
    "    print (st2)"
   ]
  },
  {
   "cell_type": "code",
   "execution_count": 30,
   "metadata": {},
   "outputs": [
    {
     "name": "stdout",
     "output_type": "stream",
     "text": [
      "ชื่อ กฤตยา นามสกุล สังข์ไทย รหัส 603021853-6\n",
      "เกรดวิชา stat1 >>> F\n"
     ]
    }
   ],
   "source": [
    "print_3line_default ('กฤตยา','สังข์ไทย','603021853-6')"
   ]
  },
  {
   "cell_type": "markdown",
   "metadata": {},
   "source": [
    "## Loop (วนซ้ำ)"
   ]
  },
  {
   "cell_type": "markdown",
   "metadata": {},
   "source": [
    "```Python\n",
    "for each_member in listA:\n",
    "        do something\n",
    "```"
   ]
  },
  {
   "cell_type": "code",
   "execution_count": 31,
   "metadata": {},
   "outputs": [
    {
     "name": "stdout",
     "output_type": "stream",
     "text": [
      "1\n",
      "2\n",
      "3\n"
     ]
    }
   ],
   "source": [
    "for i in [1,2,3]:\n",
    "    print(i)"
   ]
  },
  {
   "cell_type": "code",
   "execution_count": 40,
   "metadata": {},
   "outputs": [
    {
     "name": "stdout",
     "output_type": "stream",
     "text": [
      "K\n",
      "r\n",
      "i\n",
      "t\n",
      "t\n",
      "a\n",
      "y\n",
      "a\n"
     ]
    }
   ],
   "source": [
    "for i in 'Krittaya':\n",
    "    print(f'{i}')"
   ]
  },
  {
   "cell_type": "markdown",
   "metadata": {},
   "source": [
    "## 1. สร้าง list ชื่อเพื่อนที่อยู่ในแถวเดียวกัน \n",
    "## 2. สร้าง function ประโยคว่า XXX(ชื่อเรา) YYY(กริยา) ZZZ(เพื่อน) ทุกคน\n",
    "## 2. วนลูป เรียก function โดยเปลี่ยนชื่อเพื่อนไปเรื่อยๆ"
   ]
  },
  {
   "cell_type": "code",
   "execution_count": 111,
   "metadata": {},
   "outputs": [],
   "source": [
    "list_Friend =['เจ็ท','บูม','เจมส์','ดาย','ฝน','แคมป์']"
   ]
  },
  {
   "cell_type": "code",
   "execution_count": 112,
   "metadata": {},
   "outputs": [],
   "source": [
    "def print_lineF(myname,felling,name_friend):\n",
    "    print (f' {myname}  {felling}  {name_friend}')\n",
    "   "
   ]
  },
  {
   "cell_type": "code",
   "execution_count": 113,
   "metadata": {},
   "outputs": [
    {
     "name": "stdout",
     "output_type": "stream",
     "text": [
      " แตงโม  รัก  บูม\n",
      " แตงโม  เบื่อ  ฝน\n"
     ]
    }
   ],
   "source": [
    "print_lineF('แตงโม','รัก','บูม')\n",
    "print_lineF('แตงโม','เบื่อ','ฝน')"
   ]
  },
  {
   "cell_type": "code",
   "execution_count": 114,
   "metadata": {},
   "outputs": [
    {
     "name": "stdout",
     "output_type": "stream",
     "text": [
      " แตงโม  รัก  เจ็ท\n",
      " แตงโม  รัก  บูม\n",
      " แตงโม  รัก  เจมส์\n",
      " แตงโม  รัก  ดาย\n",
      " แตงโม  รัก  ฝน\n",
      " แตงโม  รัก  แคมป์\n"
     ]
    }
   ],
   "source": [
    "for i in list_Friend:\n",
    "    print_lineF('แตงโม','รัก',i)"
   ]
  },
  {
   "cell_type": "markdown",
   "metadata": {},
   "source": [
    "## loop in function\n"
   ]
  },
  {
   "cell_type": "code",
   "execution_count": 123,
   "metadata": {},
   "outputs": [],
   "source": [
    "def print_lineFs(myname,feelling,name_friend):\n",
    "    for friend in name_friend:\n",
    "        print(f'{myname} {feelling} {friend}')"
   ]
  },
  {
   "cell_type": "code",
   "execution_count": 141,
   "metadata": {},
   "outputs": [
    {
     "name": "stdout",
     "output_type": "stream",
     "text": [
      "แตงโม รัก เจ็ท\n",
      "แตงโม รัก บูม\n",
      "แตงโม รัก เจมส์\n",
      "แตงโม รัก ดาย\n",
      "แตงโม รัก ฝน\n",
      "แตงโม รัก แคมป์\n"
     ]
    }
   ],
   "source": [
    "print_lineFs('แตงโม','รัก',list_Friend)"
   ]
  },
  {
   "cell_type": "markdown",
   "metadata": {},
   "source": [
    "## loop in loop"
   ]
  },
  {
   "cell_type": "code",
   "execution_count": 136,
   "metadata": {},
   "outputs": [],
   "source": [
    "list_Friend =['เจ็ท','บูม','เจมส์','ดาย','ฝน','แคมป์']"
   ]
  },
  {
   "cell_type": "code",
   "execution_count": 145,
   "metadata": {},
   "outputs": [
    {
     "name": "stdout",
     "output_type": "stream",
     "text": [
      " เจ็ท  รัก  เจ็ท\n",
      " เจ็ท  รัก  บูม\n",
      " เจ็ท  รัก  เจมส์\n",
      " เจ็ท  รัก  ดาย\n",
      " เจ็ท  รัก  ฝน\n",
      " เจ็ท  รัก  แคมป์\n",
      " บูม  รัก  เจ็ท\n",
      " บูม  รัก  บูม\n",
      " บูม  รัก  เจมส์\n",
      " บูม  รัก  ดาย\n",
      " บูม  รัก  ฝน\n",
      " บูม  รัก  แคมป์\n",
      " เจมส์  รัก  เจ็ท\n",
      " เจมส์  รัก  บูม\n",
      " เจมส์  รัก  เจมส์\n",
      " เจมส์  รัก  ดาย\n",
      " เจมส์  รัก  ฝน\n",
      " เจมส์  รัก  แคมป์\n",
      " ดาย  รัก  เจ็ท\n",
      " ดาย  รัก  บูม\n",
      " ดาย  รัก  เจมส์\n",
      " ดาย  รัก  ดาย\n",
      " ดาย  รัก  ฝน\n",
      " ดาย  รัก  แคมป์\n",
      " ฝน  รัก  เจ็ท\n",
      " ฝน  รัก  บูม\n",
      " ฝน  รัก  เจมส์\n",
      " ฝน  รัก  ดาย\n",
      " ฝน  รัก  ฝน\n",
      " ฝน  รัก  แคมป์\n",
      " แคมป์  รัก  เจ็ท\n",
      " แคมป์  รัก  บูม\n",
      " แคมป์  รัก  เจมส์\n",
      " แคมป์  รัก  ดาย\n",
      " แคมป์  รัก  ฝน\n",
      " แคมป์  รัก  แคมป์\n"
     ]
    }
   ],
   "source": [
    "for name1 in list_Friend:\n",
    "    for name2 in list_Friend:\n",
    "        print_lineF(name1,'รัก',name2)"
   ]
  },
  {
   "cell_type": "markdown",
   "metadata": {},
   "source": [
    "## looping in dict"
   ]
  },
  {
   "cell_type": "code",
   "execution_count": 125,
   "metadata": {},
   "outputs": [
    {
     "data": {
      "text/plain": [
       "{'กฤตยา': 'A', 'โสภิตา': 'B', 'ณัฐฤทธิ์': 'C', 'ลั่นฟ้า': 'F'}"
      ]
     },
     "execution_count": 125,
     "metadata": {},
     "output_type": "execute_result"
    }
   ],
   "source": [
    "name_grade = {'กฤตยา':'A','โสภิตา':'B','ณัฐฤทธิ์':'C','ลั่นฟ้า':'F'}\n",
    "name_grade"
   ]
  },
  {
   "cell_type": "code",
   "execution_count": 126,
   "metadata": {},
   "outputs": [
    {
     "data": {
      "text/plain": [
       "'B'"
      ]
     },
     "execution_count": 126,
     "metadata": {},
     "output_type": "execute_result"
    }
   ],
   "source": [
    "name_grade['โสภิตา']"
   ]
  },
  {
   "cell_type": "code",
   "execution_count": 132,
   "metadata": {},
   "outputs": [
    {
     "data": {
      "text/plain": [
       "dict_keys(['กฤตยา', 'โสภิตา', 'ณัฐฤทธิ์', 'ลั่นฟ้า'])"
      ]
     },
     "execution_count": 132,
     "metadata": {},
     "output_type": "execute_result"
    }
   ],
   "source": [
    "name_grade.keys()"
   ]
  },
  {
   "cell_type": "code",
   "execution_count": 134,
   "metadata": {},
   "outputs": [
    {
     "name": "stdout",
     "output_type": "stream",
     "text": [
      "กฤตยา ได้เกรด A\n",
      "โสภิตา ได้เกรด B\n",
      "ณัฐฤทธิ์ ได้เกรด C\n",
      "ลั่นฟ้า ได้เกรด F\n"
     ]
    }
   ],
   "source": [
    "for i in name_grade.keys():\n",
    "    print(f'{i} ได้เกรด {name_grade[i]}')"
   ]
  },
  {
   "cell_type": "markdown",
   "metadata": {},
   "source": [
    "## Conditional"
   ]
  },
  {
   "cell_type": "markdown",
   "metadata": {},
   "source": [
    "```Python\n",
    "if condition1:\n",
    "    do something\n",
    "elif condition2:\n",
    "    do someting\n",
    "else:\n",
    "    do....\n",
    "```"
   ]
  },
  {
   "cell_type": "code",
   "execution_count": 148,
   "metadata": {},
   "outputs": [],
   "source": [
    "list_Friend =['เจ็ท','บูม','เจมส์','ดาย','ฝน','แคมป์']"
   ]
  },
  {
   "cell_type": "code",
   "execution_count": 149,
   "metadata": {},
   "outputs": [
    {
     "name": "stdout",
     "output_type": "stream",
     "text": [
      " เจ็ท  รัก  บูม\n",
      " เจ็ท  รัก  เจมส์\n",
      " เจ็ท  รัก  ดาย\n",
      " เจ็ท  รัก  ฝน\n",
      " เจ็ท  รัก  แคมป์\n",
      " บูม  รัก  เจ็ท\n",
      " บูม  รัก  เจมส์\n",
      " บูม  รัก  ดาย\n",
      " บูม  รัก  ฝน\n",
      " บูม  รัก  แคมป์\n",
      " เจมส์  รัก  เจ็ท\n",
      " เจมส์  รัก  บูม\n",
      " เจมส์  รัก  ดาย\n",
      " เจมส์  รัก  ฝน\n",
      " เจมส์  รัก  แคมป์\n",
      " ดาย  รัก  เจ็ท\n",
      " ดาย  รัก  บูม\n",
      " ดาย  รัก  เจมส์\n",
      " ดาย  รัก  ฝน\n",
      " ดาย  รัก  แคมป์\n",
      " ฝน  รัก  เจ็ท\n",
      " ฝน  รัก  บูม\n",
      " ฝน  รัก  เจมส์\n",
      " ฝน  รัก  ดาย\n",
      " ฝน  รัก  แคมป์\n",
      " แคมป์  รัก  เจ็ท\n",
      " แคมป์  รัก  บูม\n",
      " แคมป์  รัก  เจมส์\n",
      " แคมป์  รัก  ดาย\n",
      " แคมป์  รัก  ฝน\n"
     ]
    }
   ],
   "source": [
    "for name1 in list_Friend:\n",
    "    for name2 in list_Friend:\n",
    "        if name1!= name2:\n",
    "          print_lineF(name1,'รัก',name2)"
   ]
  },
  {
   "cell_type": "markdown",
   "metadata": {},
   "source": [
    "### exercise"
   ]
  },
  {
   "cell_type": "code",
   "execution_count": 150,
   "metadata": {},
   "outputs": [
    {
     "name": "stdout",
     "output_type": "stream",
     "text": [
      "Yes\n"
     ]
    }
   ],
   "source": [
    "if True:\n",
    "    print('Yes')"
   ]
  },
  {
   "cell_type": "code",
   "execution_count": 151,
   "metadata": {},
   "outputs": [],
   "source": [
    "if False:\n",
    "    print('No')"
   ]
  },
  {
   "cell_type": "code",
   "execution_count": 154,
   "metadata": {},
   "outputs": [
    {
     "name": "stdout",
     "output_type": "stream",
     "text": [
      "No\n"
     ]
    }
   ],
   "source": [
    "if False:\n",
    "    print('Yes')\n",
    "else:\n",
    "    print('No')"
   ]
  },
  {
   "cell_type": "code",
   "execution_count": 155,
   "metadata": {},
   "outputs": [
    {
     "data": {
      "text/plain": [
       "True"
      ]
     },
     "execution_count": 155,
     "metadata": {},
     "output_type": "execute_result"
    }
   ],
   "source": [
    "1==1"
   ]
  },
  {
   "cell_type": "code",
   "execution_count": 156,
   "metadata": {},
   "outputs": [
    {
     "name": "stdout",
     "output_type": "stream",
     "text": [
      "1=1\n"
     ]
    }
   ],
   "source": [
    "if 1==1:\n",
    "    print('1=1')"
   ]
  },
  {
   "cell_type": "markdown",
   "metadata": {},
   "source": [
    "### == เช็คว่าข้างหน้ากับข้างหลังเท่ากันหรือไม่ (ถ้าใช่ ตอบ True )\n",
    "### !=  ไม่เท่ากัน (ถ้าไม่เท่ากัน จะตอบว่า True)\n",
    "### >=  ตัวข้างหน้ามากกว่าหรือเท่ากับตัวข้างหลังหรือไม่\n",
    "### <= ตัวข้างหน้าน้อยกว่าหรือเท่ากับตัวข้างหลังหรือไม่\n",
    "### > ข้างหน้ามากกว่าข้างหลัง\n",
    "### < ข้างหน้าน้อยกว่าข้างหลัง"
   ]
  },
  {
   "cell_type": "markdown",
   "metadata": {},
   "source": [
    "# HW ส่ง ศุกร์ที่ 17 มกราคม 2563\n",
    "### เขียน function ตัดเกรด โดยที่ input เป็น คะแนน (0-100) output เป็นเกรด (F-A) เกณฑ์ตามมัธยม\n",
    "#### input =  [1,50,65,90,101,-5,49]\n"
   ]
  },
  {
   "cell_type": "code",
   "execution_count": null,
   "metadata": {},
   "outputs": [],
   "source": []
  }
 ],
 "metadata": {
  "kernelspec": {
   "display_name": "Python 3",
   "language": "python",
   "name": "python3"
  },
  "language_info": {
   "codemirror_mode": {
    "name": "ipython",
    "version": 3
   },
   "file_extension": ".py",
   "mimetype": "text/x-python",
   "name": "python",
   "nbconvert_exporter": "python",
   "pygments_lexer": "ipython3",
   "version": "3.7.3"
  }
 },
 "nbformat": 4,
 "nbformat_minor": 2
}
