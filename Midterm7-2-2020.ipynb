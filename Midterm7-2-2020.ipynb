{
 "cells": [
  {
   "cell_type": "code",
   "execution_count": 1,
   "metadata": {},
   "outputs": [],
   "source": [
    "import pandas as pd"
   ]
  },
  {
   "cell_type": "markdown",
   "metadata": {},
   "source": [
    "## ข้อที่ 1 สร้างFunction ชื่อ smartDict ซึ่งทำหน้าที่\n",
    "#### * function รับ input เป็น list 2 ตัวที่มีขนาดเท่ากัน โดย list แรกเป็น list ของตัวเอง list ที่สองเป็น list ของ text\n",
    "#### * ถ้าค่าใน list แรกเป็นเลขคี่ ให้ค่าใน dict ที่เป็น output มี key เป็นคำจาก list ตัวที่ 1 และ value จาก list ตัวที่ 2\n",
    "#### * ถ้าค่าใน list แรกเป็นเลขคู่ ให้ค่าใน dict ที่เป็น output มี key เป็นคำจาก list ตัวที่ 2 และ value จาก list ตัวที่ 1\n",
    "#### * output ของ function คือ dict ที่สร้างขึ้น"
   ]
  },
  {
   "cell_type": "code",
   "execution_count": 299,
   "metadata": {},
   "outputs": [],
   "source": [
    "def smartDict(listnum,listtext):\n",
    "    k ={}\n",
    "    for j in range(len(listnum)):\n",
    "        if listnum[j]%2==1:\n",
    "             k[listnum[j]]= listtext[j]\n",
    "        else:\n",
    "            k [listtext[j]]= listnum[j]\n",
    "    return(k)"
   ]
  },
  {
   "cell_type": "code",
   "execution_count": 300,
   "metadata": {},
   "outputs": [
    {
     "data": {
      "text/plain": [
       "{1: 'apple', 'banana': 2, 3: 'orange'}"
      ]
     },
     "execution_count": 300,
     "metadata": {},
     "output_type": "execute_result"
    }
   ],
   "source": [
    "smartDict( [ 1 , 2, 3 ],[ 'apple' , 'banana','orange'])"
   ]
  },
  {
   "cell_type": "markdown",
   "metadata": {},
   "source": [
    "## ข้อที่ 2 \n",
    "### จากไฟล์ Wuhan_nCoV_GNome.txt จงเขียนโปรแกรมเพื่อตอบคำถามต่อไปนี้"
   ]
  },
  {
   "cell_type": "markdown",
   "metadata": {},
   "source": [
    "### 2.1 กรดอะมิโนใด ( A,T,G,C) มีปิมาณมากที่สุดและมีเท่าใด "
   ]
  },
  {
   "cell_type": "code",
   "execution_count": 61,
   "metadata": {},
   "outputs": [],
   "source": [
    "import pandas as pd"
   ]
  },
  {
   "cell_type": "code",
   "execution_count": 62,
   "metadata": {},
   "outputs": [
    {
     "data": {
      "text/html": [
       "<div>\n",
       "<style scoped>\n",
       "    .dataframe tbody tr th:only-of-type {\n",
       "        vertical-align: middle;\n",
       "    }\n",
       "\n",
       "    .dataframe tbody tr th {\n",
       "        vertical-align: top;\n",
       "    }\n",
       "\n",
       "    .dataframe thead th {\n",
       "        text-align: right;\n",
       "    }\n",
       "</style>\n",
       "<table border=\"1\" class=\"dataframe\">\n",
       "  <thead>\n",
       "    <tr style=\"text-align: right;\">\n",
       "      <th></th>\n",
       "      <th>0</th>\n",
       "    </tr>\n",
       "  </thead>\n",
       "  <tbody>\n",
       "    <tr>\n",
       "      <th>0</th>\n",
       "      <td>ATTAAAGGTTTATACCTTCCCAGGTAACAAACCAACCAACTTTCGA...</td>\n",
       "    </tr>\n",
       "    <tr>\n",
       "      <th>1</th>\n",
       "      <td>CGAACTTTAAAATCTGTGTGGCTGTCACTCGGCTGCATGCTTAGTG...</td>\n",
       "    </tr>\n",
       "    <tr>\n",
       "      <th>2</th>\n",
       "      <td>TAATTACTGTCGTTGACAGGACACGAGTAACTCGTCTATCTTCTGC...</td>\n",
       "    </tr>\n",
       "    <tr>\n",
       "      <th>3</th>\n",
       "      <td>TTGCAGCCGATCATCAGCACATCTAGGTTTCGTCCGGGTGTGACCG...</td>\n",
       "    </tr>\n",
       "    <tr>\n",
       "      <th>4</th>\n",
       "      <td>CCTGGTTTCAACGAGAAAACACACGTCCAACTCAGTTTGCCTGTTT...</td>\n",
       "    </tr>\n",
       "  </tbody>\n",
       "</table>\n",
       "</div>"
      ],
      "text/plain": [
       "                                                   0\n",
       "0  ATTAAAGGTTTATACCTTCCCAGGTAACAAACCAACCAACTTTCGA...\n",
       "1  CGAACTTTAAAATCTGTGTGGCTGTCACTCGGCTGCATGCTTAGTG...\n",
       "2  TAATTACTGTCGTTGACAGGACACGAGTAACTCGTCTATCTTCTGC...\n",
       "3  TTGCAGCCGATCATCAGCACATCTAGGTTTCGTCCGGGTGTGACCG...\n",
       "4  CCTGGTTTCAACGAGAAAACACACGTCCAACTCAGTTTGCCTGTTT..."
      ]
     },
     "execution_count": 62,
     "metadata": {},
     "output_type": "execute_result"
    }
   ],
   "source": [
    "DNAseq = pd.read_csv('C:\\Tangmo\\Programming\\Python_dataviz\\Wuhan_nCoV_GNome.txt',header=None)\n",
    "DNAseq.head()"
   ]
  },
  {
   "cell_type": "code",
   "execution_count": 66,
   "metadata": {},
   "outputs": [
    {
     "data": {
      "text/plain": [
       "(428, 1)"
      ]
     },
     "execution_count": 66,
     "metadata": {},
     "output_type": "execute_result"
    }
   ],
   "source": [
    " DNAseq.shape"
   ]
  },
  {
   "cell_type": "code",
   "execution_count": 67,
   "metadata": {},
   "outputs": [
    {
     "data": {
      "text/plain": [
       "'CGAACTTTAAAATCTGTGTGGCTGTCACTCGGCTGCATGCTTAGTGCACTCACGCAGTATAATTAATAAC'"
      ]
     },
     "execution_count": 67,
     "metadata": {},
     "output_type": "execute_result"
    }
   ],
   "source": [
    "DNAseq.iloc[1][0]"
   ]
  },
  {
   "cell_type": "code",
   "execution_count": 68,
   "metadata": {},
   "outputs": [],
   "source": [
    "def countChar(seq,character):\n",
    "    charcount = 0\n",
    "    for char in seq:\n",
    "        if char== character:\n",
    "             charcount= charcount+1\n",
    "    return  charcount"
   ]
  },
  {
   "cell_type": "code",
   "execution_count": 69,
   "metadata": {},
   "outputs": [
    {
     "data": {
      "text/plain": [
       "17"
      ]
     },
     "execution_count": 69,
     "metadata": {},
     "output_type": "execute_result"
    }
   ],
   "source": [
    " countChar('ATTAAAGGTTTATACCTTCCCAGGTAACAAACCAACCAACTTTCGA','A')"
   ]
  },
  {
   "cell_type": "code",
   "execution_count": 117,
   "metadata": {},
   "outputs": [
    {
     "name": "stdout",
     "output_type": "stream",
     "text": [
      " 8954 As, 9594 Ts, 5863 Gs, 5492 Cs\n"
     ]
    }
   ],
   "source": [
    "ANum = 0\n",
    "TNum = 0\n",
    "GNum = 0\n",
    "CNum = 0\n",
    "for row in range(DNAseq.shape[0]):\n",
    "    ANum += countChar(DNAseq.iloc[row][0],'A')\n",
    "    TNum += countChar(DNAseq.iloc[row][0],'T')\n",
    "    GNum += countChar(DNAseq.iloc[row][0],'G')\n",
    "    CNum += countChar(DNAseq.iloc[row][0],'C')\n",
    "    \n",
    "print(f' {ANum} As, {TNum} Ts, {GNum} Gs, {CNum} Cs')"
   ]
  },
  {
   "cell_type": "code",
   "execution_count": 192,
   "metadata": {},
   "outputs": [
    {
     "name": "stdout",
     "output_type": "stream",
     "text": [
      "Ts\n"
     ]
    }
   ],
   "source": [
    "dat =(f' {ANum} As, {TNum} Ts, {GNum} Gs, {CNum} Cs')\n",
    "print(max('Ts','As','Gs','Cs'))"
   ]
  },
  {
   "cell_type": "markdown",
   "metadata": {},
   "source": [
    "### 2.2 จงหา sequence ที่มีขนาด 3 และ 4 ที่เกิดขึ้นซ้ำมากที่สุด"
   ]
  },
  {
   "cell_type": "code",
   "execution_count": 127,
   "metadata": {},
   "outputs": [],
   "source": [
    "def populate3charstring(seq):\n",
    "    str_list = list()\n",
    "    for i in range(len(seq)-2):\n",
    "        str_list.append(seq[i:i+3])\n",
    "    return str_list"
   ]
  },
  {
   "cell_type": "code",
   "execution_count": 128,
   "metadata": {},
   "outputs": [
    {
     "data": {
      "text/plain": [
       "['ATT', 'TTA', 'TAA', 'AAA', 'AAG', 'AGG', 'GGT', 'GTT', 'TTT']"
      ]
     },
     "execution_count": 128,
     "metadata": {},
     "output_type": "execute_result"
    }
   ],
   "source": [
    "populate3charstring('ATTAAAGGTTT')"
   ]
  },
  {
   "cell_type": "code",
   "execution_count": 129,
   "metadata": {},
   "outputs": [],
   "source": [
    "list_all_3char = list()\n",
    "for row in range( DNAseq.shape[0]):\n",
    "    list_all_3char = list_all_3char + populate3charstring(DNAseq.iloc[row][0])"
   ]
  },
  {
   "cell_type": "code",
   "execution_count": 130,
   "metadata": {},
   "outputs": [
    {
     "data": {
      "text/plain": [
       "29047"
      ]
     },
     "execution_count": 130,
     "metadata": {},
     "output_type": "execute_result"
    }
   ],
   "source": [
    "len(list_all_3char)"
   ]
  },
  {
   "cell_type": "code",
   "execution_count": 131,
   "metadata": {},
   "outputs": [],
   "source": [
    "unique_3char = list(set(list_all_3char))"
   ]
  },
  {
   "cell_type": "code",
   "execution_count": 132,
   "metadata": {},
   "outputs": [
    {
     "data": {
      "text/plain": [
       "64"
      ]
     },
     "execution_count": 132,
     "metadata": {},
     "output_type": "execute_result"
    }
   ],
   "source": [
    "len(unique_3char)"
   ]
  },
  {
   "cell_type": "code",
   "execution_count": 133,
   "metadata": {},
   "outputs": [],
   "source": [
    "dict_3char = {}\n",
    "for sub_str in unique_3char:\n",
    "    num = 0\n",
    "    for s in list_all_3char:\n",
    "        if sub_str == s:\n",
    "            num += 1\n",
    "    dict_3char[sub_str] = num"
   ]
  },
  {
   "cell_type": "code",
   "execution_count": 135,
   "metadata": {},
   "outputs": [
    {
     "data": {
      "text/plain": [
       "{'TAT': 601,\n",
       " 'GAT': 430,\n",
       " 'GAG': 290,\n",
       " 'AGA': 582,\n",
       " 'TTC': 509,\n",
       " 'CCC': 113,\n",
       " 'CAT': 472,\n",
       " 'TTA': 853,\n",
       " 'CAA': 681,\n",
       " 'TGT': 834,\n",
       " 'ACG': 157,\n",
       " 'GTT': 686,\n",
       " 'TCA': 536,\n",
       " 'AAG': 564,\n",
       " 'CCG': 70,\n",
       " 'CGC': 92,\n",
       " 'GTA': 458,\n",
       " 'ATT': 749,\n",
       " 'TCG': 110,\n",
       " 'GCA': 363,\n",
       " 'GGG': 131,\n",
       " 'AAA': 899,\n",
       " 'CTC': 276,\n",
       " 'TGC': 530,\n",
       " 'ATG': 701,\n",
       " 'CCT': 332,\n",
       " 'CTG': 483,\n",
       " 'AGG': 317,\n",
       " 'AGC': 292,\n",
       " 'CTA': 543,\n",
       " 'TAC': 591,\n",
       " 'ACA': 789,\n",
       " 'GAC': 328,\n",
       " 'TCC': 203,\n",
       " 'GGC': 217,\n",
       " 'CCA': 336,\n",
       " 'CGG': 74,\n",
       " 'TTG': 800,\n",
       " 'TTT': 984,\n",
       " 'GCG': 86,\n",
       " 'GCC': 184,\n",
       " 'ACT': 660,\n",
       " 'CAC': 447,\n",
       " 'TCT': 526,\n",
       " 'ATA': 456,\n",
       " 'TAA': 688,\n",
       " 'TGG': 540,\n",
       " 'ACC': 364,\n",
       " 'AGT': 493,\n",
       " 'GGA': 272,\n",
       " 'CGT': 166,\n",
       " 'ATC': 336,\n",
       " 'TGA': 602,\n",
       " 'CTT': 720,\n",
       " 'GGT': 442,\n",
       " 'CAG': 424,\n",
       " 'CGA': 91,\n",
       " 'AAT': 735,\n",
       " 'GTG': 532,\n",
       " 'TAG': 414,\n",
       " 'GTC': 265,\n",
       " 'GAA': 524,\n",
       " 'GCT': 509,\n",
       " 'AAC': 595}"
      ]
     },
     "execution_count": 135,
     "metadata": {},
     "output_type": "execute_result"
    }
   ],
   "source": [
    "dict_3char"
   ]
  },
  {
   "cell_type": "code",
   "execution_count": 136,
   "metadata": {},
   "outputs": [],
   "source": [
    "maxVal = -100\n",
    "maxKey = None\n",
    "for k in dict_3char.keys():\n",
    "    if dict_3char[k] > maxVal:\n",
    "        maxVal = dict_3char[k]\n",
    "        maxKey = k"
   ]
  },
  {
   "cell_type": "code",
   "execution_count": 137,
   "metadata": {},
   "outputs": [
    {
     "data": {
      "text/plain": [
       "'TTT'"
      ]
     },
     "execution_count": 137,
     "metadata": {},
     "output_type": "execute_result"
    }
   ],
   "source": [
    "maxKey"
   ]
  },
  {
   "cell_type": "code",
   "execution_count": 138,
   "metadata": {},
   "outputs": [
    {
     "name": "stdout",
     "output_type": "stream",
     "text": [
      "max 3-long-sequence is TTT with frequency equals 984\n"
     ]
    }
   ],
   "source": [
    "print(f'max 3-long-sequence is {maxKey} with frequency equals {maxVal}')"
   ]
  },
  {
   "cell_type": "code",
   "execution_count": 139,
   "metadata": {},
   "outputs": [],
   "source": [
    "def populate4charstring(seq):\n",
    "    str_list = list()\n",
    "    for i in range(len(seq)-3):\n",
    "        str_list.append(seq[i:i+4])\n",
    "    return str_list"
   ]
  },
  {
   "cell_type": "code",
   "execution_count": 140,
   "metadata": {},
   "outputs": [
    {
     "data": {
      "text/plain": [
       "['ATT', 'TTA', 'TAA', 'AAA', 'AAG', 'AGG', 'GGT', 'GTT', 'TTT']"
      ]
     },
     "execution_count": 140,
     "metadata": {},
     "output_type": "execute_result"
    }
   ],
   "source": [
    "populate5charstring('ATTAAAGGTTT')"
   ]
  },
  {
   "cell_type": "code",
   "execution_count": 141,
   "metadata": {},
   "outputs": [],
   "source": [
    "list_all_4char = list()\n",
    "for row in range( DNAseq.shape[0]):\n",
    "    list_all_4char = list_all_4char + populate4charstring(DNAseq.iloc[row][0])"
   ]
  },
  {
   "cell_type": "code",
   "execution_count": 142,
   "metadata": {},
   "outputs": [
    {
     "data": {
      "text/plain": [
       "28619"
      ]
     },
     "execution_count": 142,
     "metadata": {},
     "output_type": "execute_result"
    }
   ],
   "source": [
    "len(list_all_4char)"
   ]
  },
  {
   "cell_type": "code",
   "execution_count": 143,
   "metadata": {},
   "outputs": [],
   "source": [
    "unique_4char = list(set(list_all_4char))"
   ]
  },
  {
   "cell_type": "code",
   "execution_count": 145,
   "metadata": {},
   "outputs": [
    {
     "data": {
      "text/plain": [
       "256"
      ]
     },
     "execution_count": 145,
     "metadata": {},
     "output_type": "execute_result"
    }
   ],
   "source": [
    "len(unique_4char)"
   ]
  },
  {
   "cell_type": "code",
   "execution_count": 146,
   "metadata": {},
   "outputs": [],
   "source": [
    "dict_4char = {}\n",
    "for sub_str in unique_4char:\n",
    "    num = 0\n",
    "    for s in list_all_4char:\n",
    "        if sub_str == s:\n",
    "            num += 1\n",
    "    dict_4char[sub_str] = num"
   ]
  },
  {
   "cell_type": "code",
   "execution_count": 147,
   "metadata": {},
   "outputs": [
    {
     "data": {
      "text/plain": [
       "{'TCTG': 103,\n",
       " 'TGCG': 31,\n",
       " 'GTAC': 128,\n",
       " 'ATAG': 87,\n",
       " 'ACCT': 135,\n",
       " 'CCCA': 35,\n",
       " 'TGGC': 106,\n",
       " 'CACT': 160,\n",
       " 'GCAT': 77,\n",
       " 'GTCG': 19,\n",
       " 'TACG': 44,\n",
       " 'CTTG': 160,\n",
       " 'AGAA': 194,\n",
       " 'CTGA': 106,\n",
       " 'CTAG': 87,\n",
       " 'AAGC': 94,\n",
       " 'TTAG': 121,\n",
       " 'CTGC': 105,\n",
       " 'AACG': 43,\n",
       " 'GCAG': 76,\n",
       " 'CGGT': 29,\n",
       " 'ACTC': 94,\n",
       " 'TGCT': 244,\n",
       " 'GAAT': 117,\n",
       " 'GTCA': 96,\n",
       " 'TTGA': 185,\n",
       " 'TGTG': 180,\n",
       " 'GGCC': 30,\n",
       " 'TCGC': 23,\n",
       " 'AAGA': 195,\n",
       " 'GAGT': 97,\n",
       " 'GCTA': 133,\n",
       " 'CGTG': 57,\n",
       " 'ATGC': 146,\n",
       " 'GACC': 53,\n",
       " 'CTAC': 118,\n",
       " 'GCTT': 158,\n",
       " 'CGAG': 11,\n",
       " 'ATCA': 135,\n",
       " 'AGGT': 118,\n",
       " 'CACA': 148,\n",
       " 'CGTC': 23,\n",
       " 'GAGG': 62,\n",
       " 'CCTT': 115,\n",
       " 'CAGC': 69,\n",
       " 'AGAC': 113,\n",
       " 'GTTA': 172,\n",
       " 'TGCA': 159,\n",
       " 'CCCC': 14,\n",
       " 'CAGG': 81,\n",
       " 'AACC': 106,\n",
       " 'GATC': 58,\n",
       " 'TAAG': 96,\n",
       " 'GAGC': 52,\n",
       " 'TCCT': 76,\n",
       " 'ACTA': 163,\n",
       " 'ACAA': 269,\n",
       " 'GTAG': 112,\n",
       " 'CAAC': 181,\n",
       " 'AGCT': 140,\n",
       " 'GTGT': 181,\n",
       " 'GCGA': 19,\n",
       " 'AGGG': 52,\n",
       " 'ATAC': 104,\n",
       " 'AAAA': 272,\n",
       " 'ACCC': 55,\n",
       " 'GTCC': 43,\n",
       " 'AAAC': 182,\n",
       " 'TTTC': 150,\n",
       " 'TCGA': 22,\n",
       " 'AGTG': 138,\n",
       " 'TAAC': 127,\n",
       " 'ACTG': 154,\n",
       " 'CAGA': 162,\n",
       " 'ATAT': 107,\n",
       " 'AGCA': 83,\n",
       " 'TTTG': 252,\n",
       " 'CGCG': 12,\n",
       " 'CCGA': 16,\n",
       " 'CGAT': 31,\n",
       " 'CATT': 152,\n",
       " 'CTTT': 242,\n",
       " 'CAAA': 206,\n",
       " 'AAAG': 197,\n",
       " 'CAGT': 108,\n",
       " 'CGGG': 9,\n",
       " 'GGGA': 30,\n",
       " 'CCCT': 47,\n",
       " 'GCAC': 93,\n",
       " 'AATA': 137,\n",
       " 'GCGG': 14,\n",
       " 'TTCC': 76,\n",
       " 'TTCA': 176,\n",
       " 'GCTG': 159,\n",
       " 'GTCT': 98,\n",
       " 'TGGT': 235,\n",
       " 'TATC': 75,\n",
       " 'CCGT': 26,\n",
       " 'CGTA': 39,\n",
       " 'AGCC': 45,\n",
       " 'CCAA': 102,\n",
       " 'CCAG': 75,\n",
       " 'AATC': 106,\n",
       " 'GTGC': 111,\n",
       " 'GGTC': 28,\n",
       " 'AATG': 220,\n",
       " 'GATG': 166,\n",
       " 'GCAA': 112,\n",
       " 'CCCG': 12,\n",
       " 'GCTC': 53,\n",
       " 'GGAG': 60,\n",
       " 'GCCT': 73,\n",
       " 'CGAA': 35,\n",
       " 'AATT': 262,\n",
       " 'AGTA': 105,\n",
       " 'ACGG': 28,\n",
       " 'CTCG': 32,\n",
       " 'CGGA': 16,\n",
       " 'ACGA': 33,\n",
       " 'TGGG': 54,\n",
       " 'TGAA': 188,\n",
       " 'ATTA': 211,\n",
       " 'GAGA': 77,\n",
       " 'TAGT': 133,\n",
       " 'CAAG': 116,\n",
       " 'TGTA': 189,\n",
       " 'ACGC': 33,\n",
       " 'TCCG': 15,\n",
       " 'ATTG': 181,\n",
       " 'GCCA': 75,\n",
       " 'CGTT': 45,\n",
       " 'TCCC': 26,\n",
       " 'TCTT': 201,\n",
       " 'GGTT': 145,\n",
       " 'GGGC': 31,\n",
       " 'TATT': 199,\n",
       " 'TTAC': 235,\n",
       " 'TTCG': 38,\n",
       " 'TATG': 184,\n",
       " 'CCAT': 76,\n",
       " 'TAAA': 247,\n",
       " 'TTCT': 205,\n",
       " 'ACAC': 162,\n",
       " 'CCGG': 9,\n",
       " 'CATG': 118,\n",
       " 'GCGT': 37,\n",
       " 'TGTT': 318,\n",
       " 'GCGC': 16,\n",
       " 'TACA': 231,\n",
       " 'CAAT': 169,\n",
       " 'ATCG': 21,\n",
       " 'TTAT': 234,\n",
       " 'GCCC': 16,\n",
       " 'GATT': 120,\n",
       " 'TACT': 199,\n",
       " 'TTGC': 163,\n",
       " 'TGAG': 83,\n",
       " 'GGCA': 78,\n",
       " 'CTGT': 160,\n",
       " 'GTAT': 91,\n",
       " 'GTTG': 194,\n",
       " 'GGCG': 19,\n",
       " 'AGCG': 22,\n",
       " 'GGAT': 49,\n",
       " 'AACA': 245,\n",
       " 'GCCG': 15,\n",
       " 'GTAA': 121,\n",
       " 'GTGG': 109,\n",
       " 'TCTC': 74,\n",
       " 'GACG': 28,\n",
       " 'TAGG': 55,\n",
       " 'TTTT': 294,\n",
       " 'CATA': 106,\n",
       " 'GTGA': 121,\n",
       " 'GGTA': 118,\n",
       " 'ATTC': 130,\n",
       " 'ACCA': 139,\n",
       " 'TAGC': 76,\n",
       " 'GGGG': 15,\n",
       " 'AAAT': 230,\n",
       " 'TCAT': 123,\n",
       " 'ACAG': 158,\n",
       " 'TTAA': 242,\n",
       " 'ATAA': 152,\n",
       " 'GATA': 77,\n",
       " 'TGGA': 134,\n",
       " 'TTTA': 277,\n",
       " 'CACC': 95,\n",
       " 'CGCA': 38,\n",
       " 'GGCT': 87,\n",
       " 'TCAA': 188,\n",
       " 'TTGG': 157,\n",
       " 'GAAG': 148,\n",
       " 'ATTT': 220,\n",
       " 'GGTG': 146,\n",
       " 'CATC': 92,\n",
       " 'CACG': 39,\n",
       " 'ACAT': 190,\n",
       " 'CCTG': 63,\n",
       " 'GACT': 93,\n",
       " 'GAAC': 91,\n",
       " 'CCTC': 54,\n",
       " 'TCCA': 83,\n",
       " 'TGCC': 92,\n",
       " 'CTGG': 98,\n",
       " 'GGAA': 97,\n",
       " 'GGAC': 63,\n",
       " 'ACTT': 238,\n",
       " 'GGGT': 55,\n",
       " 'TCGT': 41,\n",
       " 'ACGT': 61,\n",
       " 'ATCT': 124,\n",
       " 'CGCT': 27,\n",
       " 'TAGA': 141,\n",
       " 'ACCG': 28,\n",
       " 'ATCC': 50,\n",
       " 'AGTT': 171,\n",
       " 'CTCT': 89,\n",
       " 'TGAC': 131,\n",
       " 'GTTC': 93,\n",
       " 'TATA': 132,\n",
       " 'TCAG': 108,\n",
       " 'TGAT': 195,\n",
       " 'AAGG': 112,\n",
       " 'ATGA': 179,\n",
       " 'TCAC': 108,\n",
       " 'GTTT': 216,\n",
       " 'TCTA': 139,\n",
       " 'CCTA': 99,\n",
       " 'CTTA': 183,\n",
       " 'CGCC': 13,\n",
       " 'CTTC': 128,\n",
       " 'GAAA': 160,\n",
       " 'AACT': 192,\n",
       " 'CTAA': 166,\n",
       " 'TAAT': 209,\n",
       " 'CTAT': 161,\n",
       " 'AGAG': 129,\n",
       " 'AGGC': 59,\n",
       " 'CCGC': 19,\n",
       " 'CCAC': 78,\n",
       " 'ATGG': 168,\n",
       " 'TACC': 105,\n",
       " 'GACA': 151,\n",
       " 'TTGT': 282,\n",
       " 'CGGC': 19,\n",
       " 'CGAC': 14,\n",
       " 'TGTC': 138,\n",
       " 'AGAT': 140,\n",
       " 'AAGT': 151,\n",
       " 'ATGT': 202,\n",
       " 'AGTC': 74,\n",
       " 'CTCC': 31,\n",
       " 'TCGG': 22,\n",
       " 'AGGA': 87,\n",
       " 'CTCA': 121}"
      ]
     },
     "execution_count": 147,
     "metadata": {},
     "output_type": "execute_result"
    }
   ],
   "source": [
    "dict_4char"
   ]
  },
  {
   "cell_type": "code",
   "execution_count": 148,
   "metadata": {},
   "outputs": [],
   "source": [
    "maxVal = -100\n",
    "maxKey = None\n",
    "for k in dict_4char.keys():\n",
    "    if dict_4char[k] > maxVal:\n",
    "        maxVal = dict_4char[k]\n",
    "        maxKey = k"
   ]
  },
  {
   "cell_type": "code",
   "execution_count": 149,
   "metadata": {},
   "outputs": [
    {
     "data": {
      "text/plain": [
       "'TGTT'"
      ]
     },
     "execution_count": 149,
     "metadata": {},
     "output_type": "execute_result"
    }
   ],
   "source": [
    " maxKey"
   ]
  },
  {
   "cell_type": "code",
   "execution_count": 150,
   "metadata": {},
   "outputs": [
    {
     "name": "stdout",
     "output_type": "stream",
     "text": [
      "max 4-long-sequence is TGTT with frequency equals 318\n"
     ]
    }
   ],
   "source": [
    "print(f'max 4-long-sequence is {maxKey} with frequency equals {maxVal}')"
   ]
  },
  {
   "cell_type": "code",
   "execution_count": null,
   "metadata": {},
   "outputs": [],
   "source": []
  },
  {
   "cell_type": "markdown",
   "metadata": {},
   "source": [
    "## ข้อที่ 3"
   ]
  },
  {
   "cell_type": "code",
   "execution_count": 154,
   "metadata": {},
   "outputs": [],
   "source": [
    "import pandas as pd"
   ]
  },
  {
   "cell_type": "code",
   "execution_count": 156,
   "metadata": {},
   "outputs": [
    {
     "ename": "ImportError",
     "evalue": "Missing optional dependency 'xlrd'. Install xlrd >= 1.0.0 for Excel support Use pip or conda to install xlrd.",
     "output_type": "error",
     "traceback": [
      "\u001b[1;31m---------------------------------------------------------------------------\u001b[0m",
      "\u001b[1;31mImportError\u001b[0m                               Traceback (most recent call last)",
      "\u001b[1;32m<ipython-input-156-a39cfb2974af>\u001b[0m in \u001b[0;36m<module>\u001b[1;34m\u001b[0m\n\u001b[1;32m----> 1\u001b[1;33m \u001b[0mDatalag\u001b[0m \u001b[1;33m=\u001b[0m \u001b[0mpd\u001b[0m\u001b[1;33m.\u001b[0m\u001b[0mread_excel\u001b[0m\u001b[1;33m(\u001b[0m\u001b[1;34m'C:\\Tangmo\\Programming\\Python_dataviz\\data.xlsx'\u001b[0m\u001b[1;33m)\u001b[0m\u001b[1;33m\u001b[0m\u001b[1;33m\u001b[0m\u001b[0m\n\u001b[0m\u001b[0;32m      2\u001b[0m \u001b[0mDatalag\u001b[0m\u001b[1;33m.\u001b[0m\u001b[0mhead\u001b[0m\u001b[1;33m(\u001b[0m\u001b[1;33m)\u001b[0m\u001b[1;33m\u001b[0m\u001b[1;33m\u001b[0m\u001b[0m\n",
      "\u001b[1;32mc:\\users\\computer\\miniconda3\\lib\\site-packages\\pandas\\util\\_decorators.py\u001b[0m in \u001b[0;36mwrapper\u001b[1;34m(*args, **kwargs)\u001b[0m\n\u001b[0;32m    206\u001b[0m                 \u001b[1;32melse\u001b[0m\u001b[1;33m:\u001b[0m\u001b[1;33m\u001b[0m\u001b[1;33m\u001b[0m\u001b[0m\n\u001b[0;32m    207\u001b[0m                     \u001b[0mkwargs\u001b[0m\u001b[1;33m[\u001b[0m\u001b[0mnew_arg_name\u001b[0m\u001b[1;33m]\u001b[0m \u001b[1;33m=\u001b[0m \u001b[0mnew_arg_value\u001b[0m\u001b[1;33m\u001b[0m\u001b[1;33m\u001b[0m\u001b[0m\n\u001b[1;32m--> 208\u001b[1;33m             \u001b[1;32mreturn\u001b[0m \u001b[0mfunc\u001b[0m\u001b[1;33m(\u001b[0m\u001b[1;33m*\u001b[0m\u001b[0margs\u001b[0m\u001b[1;33m,\u001b[0m \u001b[1;33m**\u001b[0m\u001b[0mkwargs\u001b[0m\u001b[1;33m)\u001b[0m\u001b[1;33m\u001b[0m\u001b[1;33m\u001b[0m\u001b[0m\n\u001b[0m\u001b[0;32m    209\u001b[0m \u001b[1;33m\u001b[0m\u001b[0m\n\u001b[0;32m    210\u001b[0m         \u001b[1;32mreturn\u001b[0m \u001b[0mwrapper\u001b[0m\u001b[1;33m\u001b[0m\u001b[1;33m\u001b[0m\u001b[0m\n",
      "\u001b[1;32mc:\\users\\computer\\miniconda3\\lib\\site-packages\\pandas\\io\\excel\\_base.py\u001b[0m in \u001b[0;36mread_excel\u001b[1;34m(io, sheet_name, header, names, index_col, usecols, squeeze, dtype, engine, converters, true_values, false_values, skiprows, nrows, na_values, keep_default_na, verbose, parse_dates, date_parser, thousands, comment, skip_footer, skipfooter, convert_float, mangle_dupe_cols, **kwds)\u001b[0m\n\u001b[0;32m    308\u001b[0m \u001b[1;33m\u001b[0m\u001b[0m\n\u001b[0;32m    309\u001b[0m     \u001b[1;32mif\u001b[0m \u001b[1;32mnot\u001b[0m \u001b[0misinstance\u001b[0m\u001b[1;33m(\u001b[0m\u001b[0mio\u001b[0m\u001b[1;33m,\u001b[0m \u001b[0mExcelFile\u001b[0m\u001b[1;33m)\u001b[0m\u001b[1;33m:\u001b[0m\u001b[1;33m\u001b[0m\u001b[1;33m\u001b[0m\u001b[0m\n\u001b[1;32m--> 310\u001b[1;33m         \u001b[0mio\u001b[0m \u001b[1;33m=\u001b[0m \u001b[0mExcelFile\u001b[0m\u001b[1;33m(\u001b[0m\u001b[0mio\u001b[0m\u001b[1;33m,\u001b[0m \u001b[0mengine\u001b[0m\u001b[1;33m=\u001b[0m\u001b[0mengine\u001b[0m\u001b[1;33m)\u001b[0m\u001b[1;33m\u001b[0m\u001b[1;33m\u001b[0m\u001b[0m\n\u001b[0m\u001b[0;32m    311\u001b[0m     \u001b[1;32melif\u001b[0m \u001b[0mengine\u001b[0m \u001b[1;32mand\u001b[0m \u001b[0mengine\u001b[0m \u001b[1;33m!=\u001b[0m \u001b[0mio\u001b[0m\u001b[1;33m.\u001b[0m\u001b[0mengine\u001b[0m\u001b[1;33m:\u001b[0m\u001b[1;33m\u001b[0m\u001b[1;33m\u001b[0m\u001b[0m\n\u001b[0;32m    312\u001b[0m         raise ValueError(\n",
      "\u001b[1;32mc:\\users\\computer\\miniconda3\\lib\\site-packages\\pandas\\io\\excel\\_base.py\u001b[0m in \u001b[0;36m__init__\u001b[1;34m(self, io, engine)\u001b[0m\n\u001b[0;32m    817\u001b[0m         \u001b[0mself\u001b[0m\u001b[1;33m.\u001b[0m\u001b[0m_io\u001b[0m \u001b[1;33m=\u001b[0m \u001b[0m_stringify_path\u001b[0m\u001b[1;33m(\u001b[0m\u001b[0mio\u001b[0m\u001b[1;33m)\u001b[0m\u001b[1;33m\u001b[0m\u001b[1;33m\u001b[0m\u001b[0m\n\u001b[0;32m    818\u001b[0m \u001b[1;33m\u001b[0m\u001b[0m\n\u001b[1;32m--> 819\u001b[1;33m         \u001b[0mself\u001b[0m\u001b[1;33m.\u001b[0m\u001b[0m_reader\u001b[0m \u001b[1;33m=\u001b[0m \u001b[0mself\u001b[0m\u001b[1;33m.\u001b[0m\u001b[0m_engines\u001b[0m\u001b[1;33m[\u001b[0m\u001b[0mengine\u001b[0m\u001b[1;33m]\u001b[0m\u001b[1;33m(\u001b[0m\u001b[0mself\u001b[0m\u001b[1;33m.\u001b[0m\u001b[0m_io\u001b[0m\u001b[1;33m)\u001b[0m\u001b[1;33m\u001b[0m\u001b[1;33m\u001b[0m\u001b[0m\n\u001b[0m\u001b[0;32m    820\u001b[0m \u001b[1;33m\u001b[0m\u001b[0m\n\u001b[0;32m    821\u001b[0m     \u001b[1;32mdef\u001b[0m \u001b[0m__fspath__\u001b[0m\u001b[1;33m(\u001b[0m\u001b[0mself\u001b[0m\u001b[1;33m)\u001b[0m\u001b[1;33m:\u001b[0m\u001b[1;33m\u001b[0m\u001b[1;33m\u001b[0m\u001b[0m\n",
      "\u001b[1;32mc:\\users\\computer\\miniconda3\\lib\\site-packages\\pandas\\io\\excel\\_xlrd.py\u001b[0m in \u001b[0;36m__init__\u001b[1;34m(self, filepath_or_buffer)\u001b[0m\n\u001b[0;32m     18\u001b[0m         \"\"\"\n\u001b[0;32m     19\u001b[0m         \u001b[0merr_msg\u001b[0m \u001b[1;33m=\u001b[0m \u001b[1;34m\"Install xlrd >= 1.0.0 for Excel support\"\u001b[0m\u001b[1;33m\u001b[0m\u001b[1;33m\u001b[0m\u001b[0m\n\u001b[1;32m---> 20\u001b[1;33m         \u001b[0mimport_optional_dependency\u001b[0m\u001b[1;33m(\u001b[0m\u001b[1;34m\"xlrd\"\u001b[0m\u001b[1;33m,\u001b[0m \u001b[0mextra\u001b[0m\u001b[1;33m=\u001b[0m\u001b[0merr_msg\u001b[0m\u001b[1;33m)\u001b[0m\u001b[1;33m\u001b[0m\u001b[1;33m\u001b[0m\u001b[0m\n\u001b[0m\u001b[0;32m     21\u001b[0m         \u001b[0msuper\u001b[0m\u001b[1;33m(\u001b[0m\u001b[1;33m)\u001b[0m\u001b[1;33m.\u001b[0m\u001b[0m__init__\u001b[0m\u001b[1;33m(\u001b[0m\u001b[0mfilepath_or_buffer\u001b[0m\u001b[1;33m)\u001b[0m\u001b[1;33m\u001b[0m\u001b[1;33m\u001b[0m\u001b[0m\n\u001b[0;32m     22\u001b[0m \u001b[1;33m\u001b[0m\u001b[0m\n",
      "\u001b[1;32mc:\\users\\computer\\miniconda3\\lib\\site-packages\\pandas\\compat\\_optional.py\u001b[0m in \u001b[0;36mimport_optional_dependency\u001b[1;34m(name, extra, raise_on_missing, on_version)\u001b[0m\n\u001b[0;32m     91\u001b[0m     \u001b[1;32mexcept\u001b[0m \u001b[0mImportError\u001b[0m\u001b[1;33m:\u001b[0m\u001b[1;33m\u001b[0m\u001b[1;33m\u001b[0m\u001b[0m\n\u001b[0;32m     92\u001b[0m         \u001b[1;32mif\u001b[0m \u001b[0mraise_on_missing\u001b[0m\u001b[1;33m:\u001b[0m\u001b[1;33m\u001b[0m\u001b[1;33m\u001b[0m\u001b[0m\n\u001b[1;32m---> 93\u001b[1;33m             \u001b[1;32mraise\u001b[0m \u001b[0mImportError\u001b[0m\u001b[1;33m(\u001b[0m\u001b[0mmessage\u001b[0m\u001b[1;33m.\u001b[0m\u001b[0mformat\u001b[0m\u001b[1;33m(\u001b[0m\u001b[0mname\u001b[0m\u001b[1;33m=\u001b[0m\u001b[0mname\u001b[0m\u001b[1;33m,\u001b[0m \u001b[0mextra\u001b[0m\u001b[1;33m=\u001b[0m\u001b[0mextra\u001b[0m\u001b[1;33m)\u001b[0m\u001b[1;33m)\u001b[0m \u001b[1;32mfrom\u001b[0m \u001b[1;32mNone\u001b[0m\u001b[1;33m\u001b[0m\u001b[1;33m\u001b[0m\u001b[0m\n\u001b[0m\u001b[0;32m     94\u001b[0m         \u001b[1;32melse\u001b[0m\u001b[1;33m:\u001b[0m\u001b[1;33m\u001b[0m\u001b[1;33m\u001b[0m\u001b[0m\n\u001b[0;32m     95\u001b[0m             \u001b[1;32mreturn\u001b[0m \u001b[1;32mNone\u001b[0m\u001b[1;33m\u001b[0m\u001b[1;33m\u001b[0m\u001b[0m\n",
      "\u001b[1;31mImportError\u001b[0m: Missing optional dependency 'xlrd'. Install xlrd >= 1.0.0 for Excel support Use pip or conda to install xlrd."
     ]
    }
   ],
   "source": [
    "Datalag = pd.read_excel('C:\\Tangmo\\Programming\\Python_dataviz\\data.xlsx')\n",
    "Datalag.head()"
   ]
  },
  {
   "cell_type": "markdown",
   "metadata": {},
   "source": [
    "### 3.1"
   ]
  }
 ],
 "metadata": {
  "kernelspec": {
   "display_name": "Python 3",
   "language": "python",
   "name": "python3"
  },
  "language_info": {
   "codemirror_mode": {
    "name": "ipython",
    "version": 3
   },
   "file_extension": ".py",
   "mimetype": "text/x-python",
   "name": "python",
   "nbconvert_exporter": "python",
   "pygments_lexer": "ipython3",
   "version": "3.7.3"
  }
 },
 "nbformat": 4,
 "nbformat_minor": 2
}
